{
 "cells": [
  {
   "cell_type": "code",
   "execution_count": 2,
   "metadata": {
    "collapsed": true
   },
   "outputs": [],
   "source": [
    "import tensorflow as tf\n",
    "from tensorflow.keras import  layers, models, datasets\n",
    "import matplotlib.pyplot as plt\n",
    "import numpy as np"
   ]
  },
  {
   "cell_type": "code",
   "execution_count": 70,
   "metadata": {
    "pycharm": {
     "name": "#%%\n"
    }
   },
   "outputs": [],
   "source": [
    "(X_train, y_train), (X_test, y_test) = datasets.cifar10.load_data()\n",
    "y_train = y_train.ravel()\n",
    "y_test = y_test.ravel()"
   ]
  },
  {
   "cell_type": "code",
   "execution_count": 71,
   "metadata": {
    "pycharm": {
     "name": "#%%\n"
    }
   },
   "outputs": [
    {
     "data": {
      "image/png": "[encoded data removed]",
      "text/plain": [
       "<Figure size 432x288 with 1 Axes>"
      ]
     },
     "metadata": {
      "needs_background": "light"
     },
     "output_type": "display_data"
    }
   ],
   "source": [
    "classes = [\"airplane\", \"automobile\", \"bird\", \"cat\", \"deer\", \"dog\", \"frog\", \"horse\", \"ship\", \"truck\"]\n",
    "\n",
    "def showimg(x, y, index):\n",
    "    plt.imshow(x[index])\n",
    "    plt.xlabel(classes[y[index]])\n",
    "showimg(X_train, y_train, 0)"
   ]
  },
  {
   "cell_type": "code",
   "execution_count": 107,
   "metadata": {
    "pycharm": {
     "name": "#%%\n"
    }
   },
   "outputs": [
    {
     "name": "stdout",
     "output_type": "stream",
     "text": [
      "Epoch 1/20\n",
      "1563/1563 [==============================] - 32s 20ms/step - loss: 1.7263 - accuracy: 0.3956\n",
      "Epoch 2/20\n",
      "1563/1563 [==============================] - 31s 20ms/step - loss: 1.2818 - accuracy: 0.5399\n",
      "Epoch 3/20\n",
      "1563/1563 [==============================] - 31s 20ms/step - loss: 1.1366 - accuracy: 0.5982\n",
      "Epoch 4/20\n",
      "1563/1563 [==============================] - 32s 20ms/step - loss: 1.0417 - accuracy: 0.6321\n",
      "Epoch 5/20\n",
      "1563/1563 [==============================] - 35s 23ms/step - loss: 0.9666 - accuracy: 0.6605\n",
      "Epoch 6/20\n",
      "1563/1563 [==============================] - 34s 22ms/step - loss: 0.9041 - accuracy: 0.6850\n",
      "Epoch 7/20\n",
      "1563/1563 [==============================] - 34s 22ms/step - loss: 0.8586 - accuracy: 0.7014\n",
      "Epoch 8/20\n",
      "1563/1563 [==============================] - 34s 22ms/step - loss: 0.8110 - accuracy: 0.7178\n",
      "Epoch 9/20\n",
      "1563/1563 [==============================] - 34s 22ms/step - loss: 0.7673 - accuracy: 0.7315\n",
      "Epoch 10/20\n",
      "1563/1563 [==============================] - 35s 22ms/step - loss: 0.7381 - accuracy: 0.7445\n",
      "Epoch 11/20\n",
      "1563/1563 [==============================] - 34s 22ms/step - loss: 0.7119 - accuracy: 0.7544\n",
      "Epoch 12/20\n",
      "1563/1563 [==============================] - 34s 22ms/step - loss: 0.6773 - accuracy: 0.7628\n",
      "Epoch 13/20\n",
      "1563/1563 [==============================] - 34s 22ms/step - loss: 0.6509 - accuracy: 0.7751\n",
      "Epoch 14/20\n",
      "1563/1563 [==============================] - 35s 22ms/step - loss: 0.6254 - accuracy: 0.7856\n",
      "Epoch 15/20\n",
      "1563/1563 [==============================] - 34s 22ms/step - loss: 0.6099 - accuracy: 0.7882\n",
      "Epoch 16/20\n",
      "1563/1563 [==============================] - 34s 22ms/step - loss: 0.5870 - accuracy: 0.7978\n",
      "Epoch 17/20\n",
      "1563/1563 [==============================] - 34s 22ms/step - loss: 0.5665 - accuracy: 0.80600s - loss: 0.565\n",
      "Epoch 18/20\n",
      "1563/1563 [==============================] - 35s 22ms/step - loss: 0.5444 - accuracy: 0.8108\n",
      "Epoch 19/20\n",
      "1563/1563 [==============================] - 34s 22ms/step - loss: 0.5319 - accuracy: 0.8167\n",
      "Epoch 20/20\n",
      "1563/1563 [==============================] - 35s 23ms/step - loss: 0.5098 - accuracy: 0.8229\n"
     ]
    },
    {
     "data": {
      "text/plain": [
       "<keras.callbacks.History at 0x29f1deeb7f0>"
      ]
     },
     "execution_count": 107,
     "metadata": {},
     "output_type": "execute_result"
    }
   ],
   "source": [
    "model = models.Sequential([\n",
    "    #CNN\n",
    "    layers.Conv2D(filters=32, kernel_size=(3,3), padding=\"same\", activation=\"relu\", input_shape=(32,32, 3)),\n",
    "    layers.MaxPool2D((2,2)),\n",
    "    layers.Conv2D(filters=32, kernel_size=(3,3),padding=\"same\", activation=\"relu\"),\n",
    "    layers.MaxPool2D((2,2)),\n",
    "    #Dense\n",
    "    layers.Flatten(),\n",
    "    layers.Dense(64, activation=\"relu\"),\n",
    "    layers.Dense(32, activation=\"relu\"),\n",
    "    layers.Dense(64, activation=\"relu\"),\n",
    "    layers.Dense(10, activation=\"softmax\")\n",
    "])\n",
    "\n",
    "model.compile(\n",
    "    optimizer=\"adam\",\n",
    "    loss=\"sparse_categorical_crossentropy\",\n",
    "    metrics=[\"accuracy\"]\n",
    ")\n",
    "\n",
    "model.fit(X_train, y_train, epochs=20)"
   ]
  },
  {
   "cell_type": "code",
   "execution_count": 101,
   "metadata": {
    "pycharm": {
     "name": "#%%\n"
    }
   },
   "outputs": [
    {
     "name": "stdout",
     "output_type": "stream",
     "text": [
      "313/313 [==============================] - 2s 5ms/step - loss: 1.1464 - accuracy: 0.6347\n"
     ]
    },
    {
     "data": {
      "text/plain": [
       "[1.1464416980743408, 0.6347000002861023]"
      ]
     },
     "execution_count": 101,
     "metadata": {},
     "output_type": "execute_result"
    }
   ],
   "source": [
    "model.evaluate(X_test, y_test)"
   ]
  },
  {
   "cell_type": "code",
   "execution_count": 78,
   "metadata": {},
   "outputs": [
    {
     "name": "stdout",
     "output_type": "stream",
     "text": [
      "Epoch 1/5\n",
      "1563/1563 [==============================] - 19s 12ms/step - loss: 1.0259 - accuracy: 0.6371\n",
      "Epoch 2/5\n",
      "1563/1563 [==============================] - 19s 12ms/step - loss: 0.9778 - accuracy: 0.6523\n",
      "Epoch 3/5\n",
      "1563/1563 [==============================] - 20s 13ms/step - loss: 0.9464 - accuracy: 0.6650\n",
      "Epoch 4/5\n",
      "1563/1563 [==============================] - 20s 13ms/step - loss: 0.9170 - accuracy: 0.6781\n",
      "Epoch 5/5\n",
      "1563/1563 [==============================] - 19s 12ms/step - loss: 0.8886 - accuracy: 0.6898\n"
     ]
    },
    {
     "data": {
      "text/plain": [
       "<keras.callbacks.History at 0x29f12fa03a0>"
      ]
     },
     "execution_count": 78,
     "metadata": {},
     "output_type": "execute_result"
    }
   ],
   "source": [
    "model.fit(X_train, y_train, epochs=5)"
   ]
  }
 ],
 "metadata": {
  "kernelspec": {
   "display_name": "Python 3 (ipykernel)",
   "language": "python",
   "name": "python3"
  },
  "language_info": {
   "codemirror_mode": {
    "name": "ipython",
    "version": 3
   },
   "file_extension": ".py",
   "mimetype": "text/x-python",
   "name": "python",
   "nbconvert_exporter": "python",
   "pygments_lexer": "ipython3",
   "version": "3.9.5"
  }
 },
 "nbformat": 4,
 "nbformat_minor": 1
}